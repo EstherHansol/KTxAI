{
  "nbformat": 4,
  "nbformat_minor": 0,
  "metadata": {
    "colab": {
      "name": "similar.ipynb",
      "provenance": []
    },
    "kernelspec": {
      "name": "python3",
      "display_name": "Python 3"
    },
    "language_info": {
      "name": "python"
    }
  },
  "cells": [
    {
      "cell_type": "code",
      "source": [
        "from google.colab import drive\n",
        "drive.mount('/content/drive')"
      ],
      "metadata": {
        "colab": {
          "base_uri": "https://localhost:8080/"
        },
        "id": "FPg0RIUyqi5j",
        "outputId": "ae3bfc16-80a8-4631-cbd1-0d68356f3931"
      },
      "execution_count": null,
      "outputs": [
        {
          "output_type": "stream",
          "name": "stdout",
          "text": [
            "Mounted at /content/drive\n"
          ]
        }
      ]
    },
    {
      "cell_type": "code",
      "source": [
        "import cv2\n",
        "import numpy as np\n",
        "import matplotlib.pylab as plt\n"
      ],
      "metadata": {
        "id": "CmuzhPSrtx8-"
      },
      "execution_count": null,
      "outputs": []
    },
    {
      "cell_type": "code",
      "source": [
        "#이미지 읽어오기\n",
        "imgs = []\n",
        "imgs.append(cv2.imread('/content/drive/MyDrive/sample (1)/3. background remove/80imagespng/abandoned1.png'))\n",
        "imgs.append(cv2.imread('/content/drive/MyDrive/sample (1)/3. background remove/80imagespng/abandoned8.png'))"
      ],
      "metadata": {
        "id": "OSVsFKiJuEwQ"
      },
      "execution_count": null,
      "outputs": []
    },
    {
      "cell_type": "code",
      "source": [
        "hists = []"
      ],
      "metadata": {
        "id": "RnE-MCzzu4A2"
      },
      "execution_count": null,
      "outputs": []
    },
    {
      "cell_type": "code",
      "source": [
        "for img in imgs:\n",
        "    # BGR 이미지를 HSV 이미지로 변환\n",
        "    hsv = cv2.cvtColor(img, cv2.COLOR_BGR2HSV)\n",
        "    # 히스토그램 연산(파라미터 순서 : 이미지, 채널, Mask, 크기, 범위)\n",
        "    hist = cv2.calcHist([hsv], [0, 1], None, [180, 256], [0, 180, 0, 256])\n",
        "    # 정규화(파라미터 순서 : 정규화 전 데이터, 정규화 후 데이터, 시작 범위, 끝 범위, 정규화 알고리즘)\n",
        "    cv2.normalize(hist, hist, 0, 1, cv2.NORM_MINMAX)\n",
        "    # hists 리스트에 저장\n",
        "    hists.append(hist)\n",
        "\n",
        "# 1번째 이미지를 원본으로 지정\n",
        "query = hists[0]\n",
        "\n",
        "# 비교 알고리즘의 이름들을 리스트에 저장\n",
        "methods = ['CORREL','CHISQR', 'INTERSECT', 'BHATTACHARYYA', 'EMD']\n",
        "\n",
        "# 5회 반복(5개 비교 알고리즘을 모두 사용)\n",
        "for index, name in enumerate(methods):\n",
        "    # 비교 알고리즘 이름 출력(문자열 포맷팅 및 탭 적용)\n",
        "    print('%-10s' % name, end = '\\t')  \n",
        "    \n",
        "    # 2회 반복(2장의 이미지에 대해 비교 연산 적용)\n",
        "    for i, histogram in enumerate(hists):\n",
        "        ret = cv2.compareHist(query, histogram, index) \n",
        "        \n",
        "        if index == cv2.HISTCMP_INTERSECT:                   # 교차 분석인 경우 \n",
        "            ret = ret/np.sum(query)                          # 원본으로 나누어 1로 정규화\n",
        "        print(\"img%d :%7.2f\"% (i+1 , ret), end='\\t')    "
      ],
      "metadata": {
        "colab": {
          "base_uri": "https://localhost:8080/"
        },
        "id": "_Qw086fHuRe7",
        "outputId": "96a334ae-bdc1-4e9a-ce38-b4b9092a9e9b"
      },
      "execution_count": null,
      "outputs": [
        {
          "output_type": "stream",
          "name": "stdout",
          "text": [
            "CORREL    \timg1 :   1.00\timg2 :   1.00\tCHISQR    \timg1 :   0.00\timg2 :   2.40\tINTERSECT \timg1 :   1.00\timg2 :   0.87\tBHATTACHARYYA\timg1 :   0.00\timg2 :   0.30\tEMD       \timg1 :   0.00\timg2 :   0.58\t"
          ]
        }
      ]
    }
  ]
}
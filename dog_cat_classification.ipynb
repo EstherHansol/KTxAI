{
  "nbformat": 4,
  "nbformat_minor": 0,
  "metadata": {
    "colab": {
      "name": "dog_cat_classification.ipynb",
      "provenance": [],
      "collapsed_sections": [],
      "authorship_tag": "ABX9TyPoQPgSQStI3H052MYo0ZEk",
      "include_colab_link": true
    },
    "kernelspec": {
      "name": "python3",
      "display_name": "Python 3"
    },
    "language_info": {
      "name": "python"
    }
  },
  "cells": [
    {
      "cell_type": "markdown",
      "metadata": {
        "id": "view-in-github",
        "colab_type": "text"
      },
      "source": [
        "<a href=\"https://colab.research.google.com/github/EstherHansol/KTxAI/blob/main/dog_cat_classification.ipynb\" target=\"_parent\"><img src=\"https://colab.research.google.com/assets/colab-badge.svg\" alt=\"Open In Colab\"/></a>"
      ]
    },
    {
      "cell_type": "code",
      "execution_count": 1,
      "metadata": {
        "id": "Dv6YTMUunFR2"
      },
      "outputs": [],
      "source": [
        "# 잘 나온 이미지만을 가져오기 위해서 크롤러 대신 수작업을 선택해야 할지도 모르겠습니다.\n",
        "\n",
        "#1. 클러스터링 (rgb)\n",
        "\n",
        "import cv2 # 색상감지를 위한 opencv활용\n",
        "import matplotlib.pyplot as plt\n",
        "import matplotlib.image as mpimg\n",
        "import pandas as pd\n",
        "import numpy as np\n",
        "from sklearn.cluster import KMeans\n",
        "import scipy.misc\n",
        "\n",
        "def image_color_cluster(, k = 5):\n",
        "    image = cv2.imread(image_path)\n",
        "    # 3차원형태의 ndarray가 생성되었을것\n",
        "    # 리턴 되는 숫자가 3개가 있어야 정상. return 되는 숫자의 의미는 (height, width, channel) /채널: rgb의 3채널\n",
        "    \n",
        "    # 주의해야할게 opencv로 이미지를 읽어들이면 RGB순서가 아닌 BGR값으로 리턴이 된다는 것\n",
        "    # 채널을 BGR -> RGB로 변경\n",
        "    image = cv2.cvtColor(image, cv2.COLOR_BGR2RGB)\n",
        "\n",
        "    image = image.reshape((image.shape[0] * image.shape[1], 3))\n",
        "    # shape의 0,1번째 즉, height와 width를 통합시킴\n",
        "\n",
        "    print(image.shape)\n",
        "     # (-, -) 숫자 두개로 나올 것"
      ]
    },
    {
      "cell_type": "code",
      "source": [
        "    k = 5 # 예제는 5개로.\n",
        "    clt = KMeans(n_clusters = k)  # 평균 알고리즘 KMeans\n",
        "    clt.fit(image)\n",
        "    \n",
        "\n",
        "    hist = centroid_histogram(clt)\n",
        "    bar = plot_colors(hist, clt.cluster_centers_)\n",
        "    return bar\n",
        "\n",
        "\n",
        "    def centroid_histogram(clt):\n",
        "    # grab the number of different clusters and create a histogram\n",
        "    #히스토그램 형식으로 색을 반환\n",
        "    #based on the number of pixels assigned to each cluster\n",
        "    #각 클러스터의 픽셀의 숫자를 기반으로 함\n",
        "        numLabels = np.arange(0, len(np.unique(clt.labels_)) + 1)\n",
        "        (hist, _) = np.histogram(clt.labels_, bins=numLabels)\n",
        "\n",
        "        # normalize the histogram, such that it sums to one\n",
        "        hist = hist.astype(\"float\")\n",
        "        hist /= hist.sum()  # hist = hist/hist.sum()\n",
        "\n",
        "        # return the histogram\n",
        "        return hist"
      ],
      "metadata": {
        "id": "gLhCVrortIhh"
      },
      "execution_count": null,
      "outputs": []
    },
    {
      "cell_type": "code",
      "source": [
        " #추출한 color와 histogram 데이터로 화면에 그래프를 그리는 코드\n",
        "    hist = centroid_histogram(clt)\n",
        "    print(hist)\n",
        "    #[ 0.68881873  0.09307065  0.14797794  0.04675512  0.02337756]\n",
        "\n",
        "    def plot_colors(hist, centroids):\n",
        "    # initialize the bar chart representing the relative frequency\n",
        "    # of each of the colors\n",
        "        bar = np.zeros((50, 300, 3), dtype=\"uint8\")\n",
        "        startX = 0\n",
        "\n",
        "    # loop over the percentage of each cluster and the color of\n",
        "    # each cluster\n",
        "        for (percent, color) in zip(hist, centroids):\n",
        "        # plot the relative percentage of each cluster\n",
        "            endX = startX + (percent * 300)\n",
        "            cv2.rectangle(bar, (int(startX), 0), (int(endX), 50),\n",
        "                        color.astype(\"uint8\").tolist(), -1)\n",
        "            startX = endX\n",
        "\n",
        "    # return the bar chart\n",
        "        return bar\n",
        "\n",
        "    bar = plot_colors(hist, clt.cluster_centers_)\n",
        "\n",
        "    # show our color bart\n",
        "    plt.figure()\n",
        "    plt.axis(\"off\")\n",
        "    plt.imshow(bar)\n",
        "    plt.show()"
      ],
      "metadata": {
        "id": "KxQjdLTstNrO"
      },
      "execution_count": null,
      "outputs": []
    },
    {
      "cell_type": "code",
      "source": [
        "#2. 대표색 16진수로 남기기\n",
        "\n",
        "def read_real_color(filename):\n",
        "    image = cv2.imread(filename, cv2.IMREAD_COLOR)\n",
        "    image = cv2.cvtColor(image, cv2.COLOR_BGR2RGB)\n",
        "\n",
        "    image_list = [str(list(image[i][k])) for i in range(len(image)) for k in range(len(image[0]))]\n",
        "    image_unique = {}\n",
        "    for d in image_list:\n",
        "        if d not in image_unique:\n",
        "            image_unique[d] = 1\n",
        "        else:\n",
        "            image_unique[d] += 1\n",
        "\n",
        "    import operator\n",
        "    icon_color_list = max(image_unique.items(), key=operator.itemgetter(1))[0]\n",
        "\n",
        "    color_R = int(icon_color_list.split('[')[1].split(']')[0].split(', ')[0])\n",
        "    color_G = int(icon_color_list.split('[')[1].split(']')[0].split(', ')[1])\n",
        "    color_B = int(icon_color_list.split('[')[1].split(']')[0].split(', ')[2])\n",
        "\n",
        "    color_R = dec_to_hex(color_R)\n",
        "    color_G = dec_to_hex(color_G)\n",
        "    color_B = dec_to_hex(color_B)\n",
        "\n",
        "    return str(color_R + color_G + color_B)\n",
        "\n",
        "def dec_to_hex(color):\n",
        "    if color < 16:\n",
        "        return '0' + str(hex(int(color)).split('x')[1])\n",
        "    else:\n",
        "        return str(hex(int(color)).split('x')[1])\n",
        "\n",
        "color_list = []\n",
        "for n in df_cafe.index:\n",
        "    png = './cafe_color_result/' + df_cafe['파일명'][n]\n",
        "    color_list.append(read_real_color(png))\n",
        "df_cafe['대표색'] = color_list"
      ],
      "metadata": {
        "id": "t2IxBqq5tR9e"
      },
      "execution_count": null,
      "outputs": []
    }
  ]
}